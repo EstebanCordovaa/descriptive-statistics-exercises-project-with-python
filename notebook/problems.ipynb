{
    "cells": [
        {
            "cell_type": "markdown",
            "id": "ac622319",
            "metadata": {},
            "source": [
                "# Descriptive statistics problems"
            ]
        },
        {
            "cell_type": "markdown",
            "id": "5e0ab0d5",
            "metadata": {},
            "source": [
                "### Exercise 1\n",
                "\n",
                "We will use NumPy to obtain information to describe statistically.\n",
                "\n",
                "- Generate an array of 100 elements following a normal distribution.\n",
                "- Generate an array of 100 elements following a chi-square distribution with 3 degrees of freedom.\n",
                "- Calculate the main metrics and statistical measures that best describe the two vectors."
            ]
        },
        {
            "cell_type": "code",
            "execution_count": null,
            "id": "34720ab6",
            "metadata": {},
            "outputs": [
                {
                    "name": "stdout",
                    "output_type": "stream",
                    "text": [
                        "Medidas estadísticas para la distribución normal:\n",
                        "Media: 0.0722\n",
                        "Mediana: 0.0472\n",
                        "Varianza: 0.5878\n",
                        "Desviación estándar: 0.7667\n",
                        "Mínimo: -1.9521\n",
                        "Máximo: 2.1330\n",
                        "Percentil 25: -0.4965\n",
                        "Percentil 75: 0.6138\n",
                        "\n",
                        "Medidas estadísticas para la distribución chi-cuadrado:\n",
                        "Media: 2.8727\n",
                        "Mediana: 2.1373\n",
                        "Varianza: 6.0312\n",
                        "Desviación estándar: 2.4559\n",
                        "Mínimo: 0.0790\n",
                        "Máximo: 12.5288\n",
                        "Percentil 25: 1.2253\n",
                        "Percentil 75: 3.5607\n"
                    ]
                }
            ],
            "source": [
                "# TODO\n",
                "\n",
                "import numpy as np\n",
                "\n",
                "normal_array = np.random.normal(loc=0, scale=1, size=100)\n",
                "chi_square_array = np.random.chisquare(df=3, size=100)\n",
                "\n",
                "def calcular_medidas(arreglo):\n",
                "    return {\n",
                "        \"Media\": np.mean(arreglo),\n",
                "        \"Mediana\": np.median(arreglo),\n",
                "        \"Varianza\": np.var(arreglo),\n",
                "        \"Desviación estándar\": np.std(arreglo),\n",
                "        \"Mínimo\": np.min(arreglo),\n",
                "        \"Máximo\": np.max(arreglo),\n",
                "        \"Percentil 25\": np.percentile(arreglo, 25),\n",
                "        \"Percentil 75\": np.percentile(arreglo, 75),\n",
                "    }\n",
                "\n",
                "medidas_normal = calcular_medidas(normal_array)\n",
                "medidas_chi_square = calcular_medidas(chi_square_array)\n",
                "\n",
                "print(\"Medidas estadísticas para la distribución normal:\")\n",
                "for key, value in medidas_normal.items():\n",
                "    print(f\"{key}: {value:.4f}\")\n",
                "\n",
                "print(\"\\nMedidas estadísticas para la distribución chi-cuadrado:\")\n",
                "for key, value in medidas_chi_square.items():\n",
                "    print(f\"{key}: {value:.4f}\")"
            ]
        },
        {
            "cell_type": "markdown",
            "id": "46c70c3d",
            "metadata": {},
            "source": [
                "### Exercise 2\n",
                "\n",
                "Write a Python program to calculate the standard deviation of the following data:\n",
                "\n",
                "```py\n",
                "data = [4, 2, 5, 8, 6]\n",
                "```"
            ]
        },
        {
            "cell_type": "code",
            "execution_count": 7,
            "id": "d590308e",
            "metadata": {},
            "outputs": [
                {
                    "name": "stdout",
                    "output_type": "stream",
                    "text": [
                        "La desviación estándar es: 2.00\n"
                    ]
                }
            ],
            "source": [
                "# TODO\n",
                "\n",
                "import math\n",
                "\n",
                "data = [4, 2, 5, 8, 6]\n",
                "\n",
                "mean = sum(data) / len(data)\n",
                "variance = sum((x - mean) ** 2 for x in data) / len(data)\n",
                "std_deviation = math.sqrt(variance)\n",
                "\n",
                "print(f\"La desviación estándar es: {std_deviation:.2f}\")\n"
            ]
        }
    ],
    "metadata": {
        "kernelspec": {
            "display_name": ".venv",
            "language": "python",
            "name": "python3"
        },
        "language_info": {
            "codemirror_mode": {
                "name": "ipython",
                "version": 3
            },
            "file_extension": ".py",
            "mimetype": "text/x-python",
            "name": "python",
            "nbconvert_exporter": "python",
            "pygments_lexer": "ipython3",
            "version": "3.11.4"
        }
    },
    "nbformat": 4,
    "nbformat_minor": 5
}
